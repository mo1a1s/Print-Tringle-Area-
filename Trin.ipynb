{
 "cells": [
  {
   "cell_type": "code",
   "execution_count": 22,
   "metadata": {},
   "outputs": [],
   "source": [
    "# Python Program to find the area of triangle\n",
    "def AreaTri(a,b,c):  \n",
    "\n",
    "    a1 = a\n",
    "    b2 = b\n",
    "    c3 = c\n",
    "    s = (a1 + b2 + c3) / 2\n",
    "    # calculate the area\n",
    "#print the area inside traingle\n",
    "    area = (s*(s-a1)*(s-b2)*(s-c3)) ** 0.5\n",
    "    print('    %/\\%')    \n",
    "    print('   %/  \\%')\n",
    "    print('  %/    \\%')    \n",
    "    print(' %/',area,' \\%')\n",
    "    print('%/________\\%')\n"
   ]
  }
 ],
 "metadata": {
  "kernelspec": {
   "display_name": "Python 3",
   "language": "python",
   "name": "python3"
  },
  "language_info": {
   "codemirror_mode": {
    "name": "ipython",
    "version": 3
   },
   "file_extension": ".py",
   "mimetype": "text/x-python",
   "name": "python",
   "nbconvert_exporter": "python",
   "pygments_lexer": "ipython3",
   "version": "3.7.1"
  }
 },
 "nbformat": 4,
 "nbformat_minor": 2
}
